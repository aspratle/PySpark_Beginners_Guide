{
  "nbformat": 4,
  "nbformat_minor": 0,
  "metadata": {
    "colab": {
      "provenance": []
    },
    "kernelspec": {
      "name": "python3",
      "display_name": "Python 3"
    },
    "language_info": {
      "name": "python"
    }
  },
  "cells": [
    {
      "cell_type": "markdown",
      "source": [
        "# NYC Water Consumption EDA Notebook\n",
        "\n",
        "Goal is to visualize NYC population water consumption for a hypothetical local stakeholder interested in water conservation and educating the public.\n",
        "\n"
      ],
      "metadata": {
        "id": "ZZPtipYTrbgk"
      }
    },
    {
      "cell_type": "markdown",
      "source": [
        "Code for reading in a json file from the online [city of New York API on Water Consumption](https://https://data.cityofnewyork.us/Environment/Water-Consumption-in-the-City-of-New-York/ia2d-e54m)\n",
        "\n",
        "- Learn how to create a schema\n",
        "- Learn how to rename columns\n",
        "- Learn how to check for missing values\n",
        "- Learn how to get summary stats (mean, median, etc.)\n",
        "- Learn how to use built-in functions\n",
        "- Learn how to make plots\n"
      ],
      "metadata": {
        "id": "dTZDpUrdtXZf"
      }
    },
    {
      "cell_type": "markdown",
      "metadata": {
        "id": "Dd6t0uFzuR4X"
      },
      "source": [
        "## Install Spark"
      ]
    },
    {
      "cell_type": "markdown",
      "source": [
        "- Google colab recently made some changes which breaks the Spark installation.\n",
        "- Please use the code below where we install from the pyspark package instead"
      ],
      "metadata": {
        "id": "qu34sKRJvhq_"
      }
    },
    {
      "cell_type": "code",
      "execution_count": 1,
      "metadata": {
        "id": "We2yp-o7Hgu9",
        "colab": {
          "base_uri": "https://localhost:8080/"
        },
        "outputId": "86fa9117-6f73-4350-9010-d3a70f3e1c31"
      },
      "outputs": [
        {
          "output_type": "stream",
          "name": "stdout",
          "text": [
            "Collecting pyspark==3.4.0\n",
            "  Downloading pyspark-3.4.0.tar.gz (310.8 MB)\n",
            "\u001b[2K     \u001b[90m━━━━━━━━━━━━━━━━━━━━━━━━━━━━━━━━━━━━━━━━\u001b[0m \u001b[32m310.8/310.8 MB\u001b[0m \u001b[31m2.3 MB/s\u001b[0m eta \u001b[36m0:00:00\u001b[0m\n",
            "\u001b[?25h  Preparing metadata (setup.py) ... \u001b[?25l\u001b[?25hdone\n",
            "Requirement already satisfied: py4j==0.10.9.7 in /usr/local/lib/python3.10/dist-packages (from pyspark==3.4.0) (0.10.9.7)\n",
            "Building wheels for collected packages: pyspark\n",
            "  Building wheel for pyspark (setup.py) ... \u001b[?25l\u001b[?25hdone\n",
            "  Created wheel for pyspark: filename=pyspark-3.4.0-py2.py3-none-any.whl size=311317123 sha256=206a1166f737751c08bfac3c06c385f29e67b6a17dcf32163b932dbcb1d848b3\n",
            "  Stored in directory: /root/.cache/pip/wheels/7b/1b/4b/3363a1d04368e7ff0d408e57ff57966fcdf00583774e761327\n",
            "Successfully built pyspark\n",
            "Installing collected packages: pyspark\n",
            "Successfully installed pyspark-3.4.0\n"
          ]
        }
      ],
      "source": [
        "!pip install pyspark==3.4.0"
      ]
    },
    {
      "cell_type": "code",
      "execution_count": 2,
      "metadata": {
        "id": "QdrFO3yrwptm",
        "colab": {
          "base_uri": "https://localhost:8080/",
          "height": 220
        },
        "outputId": "d0257cd6-1cea-4521-ec0f-5e1cacd621df"
      },
      "outputs": [
        {
          "output_type": "execute_result",
          "data": {
            "text/plain": [
              "<pyspark.sql.session.SparkSession at 0x799ff0755810>"
            ],
            "text/html": [
              "\n",
              "            <div>\n",
              "                <p><b>SparkSession - in-memory</b></p>\n",
              "                \n",
              "        <div>\n",
              "            <p><b>SparkContext</b></p>\n",
              "\n",
              "            <p><a href=\"http://2e83732bac42:4040\">Spark UI</a></p>\n",
              "\n",
              "            <dl>\n",
              "              <dt>Version</dt>\n",
              "                <dd><code>v3.4.0</code></dd>\n",
              "              <dt>Master</dt>\n",
              "                <dd><code>local[*]</code></dd>\n",
              "              <dt>AppName</dt>\n",
              "                <dd><code>pyspark-shell</code></dd>\n",
              "            </dl>\n",
              "        </div>\n",
              "        \n",
              "            </div>\n",
              "        "
            ]
          },
          "metadata": {},
          "execution_count": 2
        }
      ],
      "source": [
        "from pyspark.sql import SparkSession\n",
        "from pyspark.sql import SQLContext\n",
        "spark = SparkSession.builder.master(\"local[*]\").getOrCreate()\n",
        "spark"
      ]
    },
    {
      "cell_type": "markdown",
      "metadata": {
        "id": "8qf-TmnsBgXd"
      },
      "source": [
        "## Downloading New York Weather Data"
      ]
    },
    {
      "cell_type": "code",
      "execution_count": 3,
      "metadata": {
        "id": "FDtw5Hy3N-pV",
        "colab": {
          "base_uri": "https://localhost:8080/"
        },
        "outputId": "1d58441b-8e82-4564-d39a-7259bdd01e04"
      },
      "outputs": [
        {
          "output_type": "stream",
          "name": "stdout",
          "text": [
            "--2023-12-20 15:33:52--  https://data.cityofnewyork.us/resource/ia2d-e54m.json\n",
            "Resolving data.cityofnewyork.us (data.cityofnewyork.us)... 52.206.140.199, 52.206.68.26, 52.206.140.205\n",
            "Connecting to data.cityofnewyork.us (data.cityofnewyork.us)|52.206.140.199|:443... connected.\n",
            "HTTP request sent, awaiting response... 200 OK\n",
            "Length: unspecified [application/json]\n",
            "Saving to: ‘ia2d-e54m.json’\n",
            "\n",
            "ia2d-e54m.json          [ <=>                ]   6.46K  --.-KB/s    in 0s      \n",
            "\n",
            "2023-12-20 15:33:52 (815 MB/s) - ‘ia2d-e54m.json’ saved [6615]\n",
            "\n"
          ]
        }
      ],
      "source": [
        "#Doing the wget command to download a file from nygov api\n",
        "\n",
        "!wget https://data.cityofnewyork.us/resource/ia2d-e54m.json"
      ]
    },
    {
      "cell_type": "markdown",
      "source": [
        "**File above saved as ia2d-e54m.json so want to rename it below for ease of use**"
      ],
      "metadata": {
        "id": "ebqiGrxe8ZYc"
      }
    },
    {
      "cell_type": "code",
      "source": [
        "#Listing out the file for sanity check -- if file is not there rerun the spark session\n",
        "!ls -l"
      ],
      "metadata": {
        "colab": {
          "base_uri": "https://localhost:8080/"
        },
        "id": "4keOETcB6smp",
        "outputId": "e4393c39-95ac-4081-c7eb-bd6ae4f2e314"
      },
      "execution_count": 4,
      "outputs": [
        {
          "output_type": "stream",
          "name": "stdout",
          "text": [
            "total 12\n",
            "-rw-r--r-- 1 root root 6615 May 10  2023 ia2d-e54m.json\n",
            "drwxr-xr-x 1 root root 4096 Dec 18 14:23 sample_data\n"
          ]
        }
      ]
    },
    {
      "cell_type": "code",
      "execution_count": 5,
      "metadata": {
        "id": "v4P5mMONYyVd",
        "colab": {
          "base_uri": "https://localhost:8080/"
        },
        "outputId": "825c04a6-67a2-4ced-de8e-cddd4518e952"
      },
      "outputs": [
        {
          "output_type": "stream",
          "name": "stdout",
          "text": [
            "total 12\n",
            "drwxr-xr-x 1 root root 4096 Dec 18 14:23 sample_data\n",
            "-rw-r--r-- 1 root root 6615 May 10  2023 water.json\n"
          ]
        }
      ],
      "source": [
        "#Renaming the file to water.json and checking to see if it saved the changes\n",
        "\n",
        "!mv ia2d-e54m.json water.json\n",
        "!ls -l"
      ]
    },
    {
      "cell_type": "code",
      "source": [
        "#Read in multiple lines of a json file\n",
        "\n",
        "df = spark.read.option(\"multiline\",\"true\") \\\n",
        "      .json(\"water.json\")\n",
        "\n",
        "#Check the first five rows\n",
        "\n",
        "df.show(5)\n"
      ],
      "metadata": {
        "colab": {
          "base_uri": "https://localhost:8080/"
        },
        "id": "H1A6ec9o1PvF",
        "outputId": "843ea70e-34d0-44dc-8f1a-7e882cc78c40"
      },
      "execution_count": 6,
      "outputs": [
        {
          "output_type": "stream",
          "name": "stdout",
          "text": [
            "+------------------------+---------------------------------------+-------------------------------------+----+\n",
            "|new_york_city_population|nyc_consumption_million_gallons_per_day|per_capita_gallons_per_person_per_day|year|\n",
            "+------------------------+---------------------------------------+-------------------------------------+----+\n",
            "|                 7102100|                                   1512|                                  213|1979|\n",
            "|                 7071639|                                   1506|                                  213|1980|\n",
            "|                 7089241|                                   1309|                                  185|1981|\n",
            "|                 7109105|                                   1382|                                  194|1982|\n",
            "|                 7181224|                                   1424|                                  198|1983|\n",
            "+------------------------+---------------------------------------+-------------------------------------+----+\n",
            "only showing top 5 rows\n",
            "\n"
          ]
        }
      ]
    },
    {
      "cell_type": "markdown",
      "source": [
        "### Change the schema with the appropiate data types"
      ],
      "metadata": {
        "id": "PfCtTT4A4OzU"
      }
    },
    {
      "cell_type": "code",
      "source": [
        "#Look at the schema to get datatypes similar to .info() in pandas\n",
        "\n",
        "df.printSchema()"
      ],
      "metadata": {
        "id": "YDoMDzk0kWLF",
        "colab": {
          "base_uri": "https://localhost:8080/"
        },
        "outputId": "eda3c1d1-f7e7-46c1-e927-91bc356a5bdc"
      },
      "execution_count": 7,
      "outputs": [
        {
          "output_type": "stream",
          "name": "stdout",
          "text": [
            "root\n",
            " |-- new_york_city_population: string (nullable = true)\n",
            " |-- nyc_consumption_million_gallons_per_day: string (nullable = true)\n",
            " |-- per_capita_gallons_per_person_per_day: string (nullable = true)\n",
            " |-- year: string (nullable = true)\n",
            "\n"
          ]
        }
      ]
    },
    {
      "cell_type": "code",
      "source": [
        "from pyspark.sql.types import IntegerType, DateType"
      ],
      "metadata": {
        "id": "6jBgmCFKkWCw"
      },
      "execution_count": 8,
      "outputs": []
    },
    {
      "cell_type": "code",
      "source": [
        "#Change data types\n",
        "\n",
        "df2 = df.withColumn(\"new_york_city_population\", df.new_york_city_population.cast(IntegerType())) \\\n",
        ".withColumn(\"nyc_consumption_million_gallons_per_day\", df.nyc_consumption_million_gallons_per_day.cast(IntegerType())) \\\n",
        ".withColumn(\"per_capita_gallons_per_person_per_day\", df.per_capita_gallons_per_person_per_day.cast(IntegerType())) \\\n",
        ".withColumn(\"year\", df.year.cast(DateType()))"
      ],
      "metadata": {
        "id": "RON3QPyw_rx7"
      },
      "execution_count": 9,
      "outputs": []
    },
    {
      "cell_type": "code",
      "source": [
        "#Sanity Check\n",
        "\n",
        "df2.printSchema()"
      ],
      "metadata": {
        "colab": {
          "base_uri": "https://localhost:8080/"
        },
        "id": "1Dg0m6VhBbts",
        "outputId": "a5d36f07-2e32-452b-976b-968ad73a5789"
      },
      "execution_count": 10,
      "outputs": [
        {
          "output_type": "stream",
          "name": "stdout",
          "text": [
            "root\n",
            " |-- new_york_city_population: integer (nullable = true)\n",
            " |-- nyc_consumption_million_gallons_per_day: integer (nullable = true)\n",
            " |-- per_capita_gallons_per_person_per_day: integer (nullable = true)\n",
            " |-- year: date (nullable = true)\n",
            "\n"
          ]
        }
      ]
    },
    {
      "cell_type": "code",
      "source": [
        "#Rename columns\n",
        "\n",
        "df2 = df2.withColumnRenamed(\"new_york_city_population\", \"Population\") \\\n",
        "       .withColumnRenamed(\"nyc_consumption_million_gallons_per_day\", \"Consumption_Million_Gallons_PerDay\") \\\n",
        "       .withColumnRenamed(\"per_capita_gallons_per_person_per_day\", \"PerCapita_Gallons_PerDay\") \\\n",
        "       .withColumnRenamed(\"year\", \"Year\")"
      ],
      "metadata": {
        "id": "_h40gQA_DG8v"
      },
      "execution_count": 11,
      "outputs": []
    },
    {
      "cell_type": "code",
      "source": [
        "df2.printSchema()"
      ],
      "metadata": {
        "colab": {
          "base_uri": "https://localhost:8080/"
        },
        "id": "nMMbYoxtCzs2",
        "outputId": "cd2bcc99-5920-416e-900c-5da719744383"
      },
      "execution_count": 12,
      "outputs": [
        {
          "output_type": "stream",
          "name": "stdout",
          "text": [
            "root\n",
            " |-- Population: integer (nullable = true)\n",
            " |-- Consumption_Million_Gallons_PerDay: integer (nullable = true)\n",
            " |-- PerCapita_Gallons_PerDay: integer (nullable = true)\n",
            " |-- Year: date (nullable = true)\n",
            "\n"
          ]
        }
      ]
    },
    {
      "cell_type": "markdown",
      "source": [
        "## Exploratory Data Analysis\n",
        "\n",
        "- Check for missing values\n",
        "- Summary Statistics (mean, median, stddev)\n",
        "- Visuals (histograms for distributions of numeric variables and line chart to see trends across time)"
      ],
      "metadata": {
        "id": "26PANeVOEwll"
      }
    },
    {
      "cell_type": "code",
      "source": [
        "#See if there is any missing values in numeric columns\n",
        "\n",
        "from pyspark.sql.functions import col, isnan, when, count\n",
        "num_cols = [\"Population\", \"Consumption_Million_Gallons_PerDay\", \"PerCapita_Gallons_PerDay\"]\n",
        "df2.select([count(when(isnan(c), c)).alias(c) for c in num_cols]).show()"
      ],
      "metadata": {
        "colab": {
          "base_uri": "https://localhost:8080/"
        },
        "id": "VIZfFBauEuiL",
        "outputId": "42e5d7a4-af80-46f3-aba8-b02a1fdce909"
      },
      "execution_count": 13,
      "outputs": [
        {
          "output_type": "stream",
          "name": "stdout",
          "text": [
            "+----------+----------------------------------+------------------------+\n",
            "|Population|Consumption_Million_Gallons_PerDay|PerCapita_Gallons_PerDay|\n",
            "+----------+----------------------------------+------------------------+\n",
            "|         0|                                 0|                       0|\n",
            "+----------+----------------------------------+------------------------+\n",
            "\n"
          ]
        }
      ]
    },
    {
      "cell_type": "markdown",
      "source": [
        "### Summary Statistics (EDA)"
      ],
      "metadata": {
        "id": "vfTddKTez7LG"
      }
    },
    {
      "cell_type": "code",
      "source": [
        "from pyspark.sql.functions import mean, median, stddev, min, max, datediff, lit, col, struct, desc"
      ],
      "metadata": {
        "id": "ep-1w2gWp0Bp"
      },
      "execution_count": 14,
      "outputs": []
    },
    {
      "cell_type": "code",
      "source": [
        "df2.select(mean(col(\"Consumption_Million_Gallons_PerDay\")), stddev(col(\"Consumption_Million_Gallons_PerDay\"))).show()"
      ],
      "metadata": {
        "colab": {
          "base_uri": "https://localhost:8080/"
        },
        "id": "7C18ULvh0Lir",
        "outputId": "ab64675c-e6d0-4bb6-a891-c11898615d40"
      },
      "execution_count": 15,
      "outputs": [
        {
          "output_type": "stream",
          "name": "stdout",
          "text": [
            "+---------------------------------------+-----------------------------------------------+\n",
            "|avg(Consumption_Million_Gallons_PerDay)|stddev_samp(Consumption_Million_Gallons_PerDay)|\n",
            "+---------------------------------------+-----------------------------------------------+\n",
            "|                     1206.3863636363637|                              181.9275623682681|\n",
            "+---------------------------------------+-----------------------------------------------+\n",
            "\n"
          ]
        }
      ]
    },
    {
      "cell_type": "code",
      "source": [
        "df2.select(min(col('Year')), max(col('Year')),datediff(max(col('Year')), min(col('Year')))).show()"
      ],
      "metadata": {
        "colab": {
          "base_uri": "https://localhost:8080/"
        },
        "id": "qxxR-3cL2M-i",
        "outputId": "970a6222-ed27-40cc-f51e-6c2d1ed75d22"
      },
      "execution_count": 16,
      "outputs": [
        {
          "output_type": "stream",
          "name": "stdout",
          "text": [
            "+----------+----------+------------------------------+\n",
            "| min(Year)| max(Year)|datediff(max(Year), min(Year))|\n",
            "+----------+----------+------------------------------+\n",
            "|1979-01-01|2022-01-01|                         15706|\n",
            "+----------+----------+------------------------------+\n",
            "\n"
          ]
        }
      ]
    },
    {
      "cell_type": "code",
      "source": [
        "#showing a group by -- but each year only appears once in the dataset\n",
        "\n",
        "sorted(df2.groupBy('Year').agg({'Population':'sum'}).collect())"
      ],
      "metadata": {
        "colab": {
          "base_uri": "https://localhost:8080/"
        },
        "id": "TzFaW2fT2yqc",
        "outputId": "3df838d2-c8a1-4b88-932b-74c16a8aba10"
      },
      "execution_count": 17,
      "outputs": [
        {
          "output_type": "execute_result",
          "data": {
            "text/plain": [
              "[Row(Year=datetime.date(1979, 1, 1), sum(Population)=7102100),\n",
              " Row(Year=datetime.date(1980, 1, 1), sum(Population)=7071639),\n",
              " Row(Year=datetime.date(1981, 1, 1), sum(Population)=7089241),\n",
              " Row(Year=datetime.date(1982, 1, 1), sum(Population)=7109105),\n",
              " Row(Year=datetime.date(1983, 1, 1), sum(Population)=7181224),\n",
              " Row(Year=datetime.date(1984, 1, 1), sum(Population)=7234514),\n",
              " Row(Year=datetime.date(1985, 1, 1), sum(Population)=7274054),\n",
              " Row(Year=datetime.date(1986, 1, 1), sum(Population)=7319246),\n",
              " Row(Year=datetime.date(1987, 1, 1), sum(Population)=7342476),\n",
              " Row(Year=datetime.date(1988, 1, 1), sum(Population)=7353719),\n",
              " Row(Year=datetime.date(1989, 1, 1), sum(Population)=7344175),\n",
              " Row(Year=datetime.date(1990, 1, 1), sum(Population)=7335650),\n",
              " Row(Year=datetime.date(1991, 1, 1), sum(Population)=7374501),\n",
              " Row(Year=datetime.date(1992, 1, 1), sum(Population)=7428944),\n",
              " Row(Year=datetime.date(1993, 1, 1), sum(Population)=7506166),\n",
              " Row(Year=datetime.date(1994, 1, 1), sum(Population)=7570458),\n",
              " Row(Year=datetime.date(1995, 1, 1), sum(Population)=7633040),\n",
              " Row(Year=datetime.date(1996, 1, 1), sum(Population)=7697812),\n",
              " Row(Year=datetime.date(1997, 1, 1), sum(Population)=7773443),\n",
              " Row(Year=datetime.date(1998, 1, 1), sum(Population)=7858259),\n",
              " Row(Year=datetime.date(1999, 1, 1), sum(Population)=7947660),\n",
              " Row(Year=datetime.date(2000, 1, 1), sum(Population)=8008278),\n",
              " Row(Year=datetime.date(2001, 1, 1), sum(Population)=8024963),\n",
              " Row(Year=datetime.date(2002, 1, 1), sum(Population)=8041649),\n",
              " Row(Year=datetime.date(2003, 1, 1), sum(Population)=8058334),\n",
              " Row(Year=datetime.date(2004, 1, 1), sum(Population)=8075020),\n",
              " Row(Year=datetime.date(2005, 1, 1), sum(Population)=8091705),\n",
              " Row(Year=datetime.date(2006, 1, 1), sum(Population)=8108391),\n",
              " Row(Year=datetime.date(2007, 1, 1), sum(Population)=8125076),\n",
              " Row(Year=datetime.date(2008, 1, 1), sum(Population)=8141762),\n",
              " Row(Year=datetime.date(2009, 1, 1), sum(Population)=8158447),\n",
              " Row(Year=datetime.date(2010, 1, 1), sum(Population)=8175133),\n",
              " Row(Year=datetime.date(2011, 1, 1), sum(Population)=8337995),\n",
              " Row(Year=datetime.date(2012, 1, 1), sum(Population)=8463949),\n",
              " Row(Year=datetime.date(2013, 1, 1), sum(Population)=8565546),\n",
              " Row(Year=datetime.date(2014, 1, 1), sum(Population)=8655309),\n",
              " Row(Year=datetime.date(2015, 1, 1), sum(Population)=8736703),\n",
              " Row(Year=datetime.date(2016, 1, 1), sum(Population)=8794605),\n",
              " Row(Year=datetime.date(2017, 1, 1), sum(Population)=8815448),\n",
              " Row(Year=datetime.date(2018, 1, 1), sum(Population)=8826472),\n",
              " Row(Year=datetime.date(2019, 1, 1), sum(Population)=8824887),\n",
              " Row(Year=datetime.date(2020, 1, 1), sum(Population)=8804190),\n",
              " Row(Year=datetime.date(2021, 1, 1), sum(Population)=8467513),\n",
              " Row(Year=datetime.date(2022, 1, 1), sum(Population)=8335897)]"
            ]
          },
          "metadata": {},
          "execution_count": 17
        }
      ]
    },
    {
      "cell_type": "markdown",
      "source": [
        "### Visuals"
      ],
      "metadata": {
        "id": "6N-BtYIQ7Mb8"
      }
    },
    {
      "cell_type": "code",
      "source": [
        "#change file into a dataframe for ease\n",
        "\n",
        "df3 = df2.toPandas()"
      ],
      "metadata": {
        "id": "8BMdrSoo6K2K"
      },
      "execution_count": 18,
      "outputs": []
    },
    {
      "cell_type": "code",
      "source": [
        "type(df3)"
      ],
      "metadata": {
        "colab": {
          "base_uri": "https://localhost:8080/"
        },
        "id": "8PhJr4sJ734h",
        "outputId": "a4284ecb-d9cc-48f0-c861-952a88070d36"
      },
      "execution_count": 19,
      "outputs": [
        {
          "output_type": "execute_result",
          "data": {
            "text/plain": [
              "pandas.core.frame.DataFrame"
            ]
          },
          "metadata": {},
          "execution_count": 19
        }
      ]
    },
    {
      "cell_type": "code",
      "source": [
        "import matplotlib.pyplot as plt"
      ],
      "metadata": {
        "id": "Hht9et5a8T3i"
      },
      "execution_count": 20,
      "outputs": []
    },
    {
      "cell_type": "code",
      "source": [
        "df3.hist('Consumption_Million_Gallons_PerDay', bins=7)"
      ],
      "metadata": {
        "colab": {
          "base_uri": "https://localhost:8080/",
          "height": 487
        },
        "id": "ZdUB8_NQ75SZ",
        "outputId": "f6959ec9-83ad-49fd-ab26-c0bf3f405c8e"
      },
      "execution_count": 21,
      "outputs": [
        {
          "output_type": "execute_result",
          "data": {
            "text/plain": [
              "array([[<Axes: title={'center': 'Consumption_Million_Gallons_PerDay'}>]],\n",
              "      dtype=object)"
            ]
          },
          "metadata": {},
          "execution_count": 21
        },
        {
          "output_type": "display_data",
          "data": {
            "text/plain": [
              "<Figure size 640x480 with 1 Axes>"
            ],
            "image/png": "[encoded data removed]"
          },
          "metadata": {}
        }
      ]
    },
    {
      "cell_type": "code",
      "source": [
        "df3.plot(kind = 'line', x = \"Year\", y=\"Consumption_Million_Gallons_PerDay\")\n",
        "plt.show()"
      ],
      "metadata": {
        "colab": {
          "base_uri": "https://localhost:8080/",
          "height": 449
        },
        "id": "u3VP_POf8i4D",
        "outputId": "1a57ebce-5f00-4da7-8098-b29f7c00ff23"
      },
      "execution_count": 22,
      "outputs": [
        {
          "output_type": "display_data",
          "data": {
            "text/plain": [
              "<Figure size 640x480 with 1 Axes>"
            ],
            "image/png": "[encoded data removed]"
          },
          "metadata": {}
        }
      ]
    },
    {
      "cell_type": "code",
      "source": [
        "#Notice y-axis changes but trend is the same\n",
        "df3.plot(kind = 'line', x = \"Year\", y=\"PerCapita_Gallons_PerDay\")\n",
        "plt.show()"
      ],
      "metadata": {
        "colab": {
          "base_uri": "https://localhost:8080/",
          "height": 449
        },
        "outputId": "e893d1fc-27ae-459d-b8f0-103f627b6719",
        "id": "VoqqoApDda4f"
      },
      "execution_count": 23,
      "outputs": [
        {
          "output_type": "display_data",
          "data": {
            "text/plain": [
              "<Figure size 640x480 with 1 Axes>"
            ],
            "image/png": "[encoded data removed]"
          },
          "metadata": {}
        }
      ]
    },
    {
      "cell_type": "code",
      "source": [],
      "metadata": {
        "id": "Mcf4M2Tx3mwK"
      },
      "execution_count": null,
      "outputs": []
    }
  ]
}